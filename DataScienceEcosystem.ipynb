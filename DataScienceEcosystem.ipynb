{
 "cells": [
  {
   "cell_type": "markdown",
   "id": "8ef4c2bc-5bfa-4387-b3fc-2197bed15582",
   "metadata": {},
   "source": [
    "<h1> Data Science Tools and Ecosystem <h1>"
   ]
  },
  {
   "cell_type": "markdown",
   "id": "1c005d8d-54c3-4ab4-88af-2fc4c3e1b8bd",
   "metadata": {},
   "source": [
    "In this notebook, Data Science Tools and Ecosystem are summarized."
   ]
  },
  {
   "cell_type": "markdown",
   "id": "cf414a5d-7f14-4a04-91d6-7fa960e0c13e",
   "metadata": {
    "tags": []
   },
   "source": [
    "Some of the popular languages that Data Scientists use are: \n",
    "1. Python\n",
    "2. R\n",
    "3. SQL\n",
    "\n"
   ]
  },
  {
   "cell_type": "markdown",
   "id": "a6ce8cbd-d562-444b-9930-10471fb41cfa",
   "metadata": {},
   "source": [
    "Some of the commonly used libraries used by Data Scientists include:\n",
    "1. NumPy\n",
    "2. Pandas\n",
    "3. Matplotlib"
   ]
  },
  {
   "cell_type": "markdown",
   "id": "b1a3d313-6a5d-4eee-8ddc-9769b2056d8b",
   "metadata": {},
   "source": [
    "|Data Science Tools|\n",
    "|------------------|\n",
    "|JupyterLab Environment|\n",
    "|Google Colab|\n",
    "|Anaconda Environment|\n"
   ]
  },
  {
   "cell_type": "markdown",
   "id": "cf85cd68-b9c1-4883-b9d0-7f59e1fd0c2d",
   "metadata": {},
   "source": [
    "<h3>Below are a few examples of evaluating arithmetic expressions in Python:<h3>\n",
    "    \n",
    "1+1\n",
    "3+5\n",
    "7+0"
   ]
  },
  {
   "cell_type": "code",
   "execution_count": 3,
   "id": "98d10452-54d8-471c-9688-e17c00028d00",
   "metadata": {
    "tags": []
   },
   "outputs": [
    {
     "data": {
      "text/plain": [
       "17"
      ]
     },
     "execution_count": 3,
     "metadata": {},
     "output_type": "execute_result"
    }
   ],
   "source": [
    "(3*4)+5\n",
    "# This a simple arithmetic expression to mutiply then add integers"
   ]
  },
  {
   "cell_type": "code",
   "execution_count": 5,
   "id": "0b8ee5b4-32d9-40cb-8fce-429ca227b7ac",
   "metadata": {
    "tags": []
   },
   "outputs": [
    {
     "data": {
      "text/plain": [
       "3.3333333333333335"
      ]
     },
     "execution_count": 5,
     "metadata": {},
     "output_type": "execute_result"
    }
   ],
   "source": [
    "200/60\n",
    "# This will convert 200 minutes to hours by diving by 60"
   ]
  },
  {
   "cell_type": "markdown",
   "id": "f7fc7b0b-798d-4c3d-bf48-e7f3ab52d047",
   "metadata": {},
   "source": [
    "**Objectives:**\n",
    "- List popular languages for Data Science\n",
    "- List popular environments for Data Science\n",
    "- List libraries for Data Science\n",
    "- Use Jupyter Notebooks\n",
    "- Use GitHub"
   ]
  },
  {
   "cell_type": "markdown",
   "id": "3af502d3-64b1-469d-8dfc-d830ad0462be",
   "metadata": {},
   "source": [
    "<h2> Author <h2>\n",
    "    \n",
    "Guilherme Pereira"
   ]
  },
  {
   "cell_type": "code",
   "execution_count": null,
   "id": "1cea4bd9-c38f-4f89-8fe6-ed645acdc620",
   "metadata": {},
   "outputs": [],
   "source": []
  }
 ],
 "metadata": {
  "kernelspec": {
   "display_name": "Python",
   "language": "python",
   "name": "conda-env-python-py"
  },
  "language_info": {
   "codemirror_mode": {
    "name": "ipython",
    "version": 3
   },
   "file_extension": ".py",
   "mimetype": "text/x-python",
   "name": "python",
   "nbconvert_exporter": "python",
   "pygments_lexer": "ipython3",
   "version": "3.7.12"
  }
 },
 "nbformat": 4,
 "nbformat_minor": 5
}
